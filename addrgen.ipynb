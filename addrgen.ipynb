{
 "cells": [
  {
   "cell_type": "markdown",
   "id": "b4a31230-6c49-4d28-ab33-51ab9ea22b3f",
   "metadata": {},
   "source": [
    "# BTC and ETH address generators\n",
    "Compare different Python implementations of the address generation for BTC and ETH.\n",
    "Make a useful tool to generate beautiful vanity addresses."
   ]
  },
  {
   "cell_type": "markdown",
   "id": "7a2c6a02-4710-4cad-aa85-ec973537d761",
   "metadata": {},
   "source": [
    "### Utilities"
   ]
  },
  {
   "cell_type": "code",
   "execution_count": null,
   "id": "46f91f96-5f3a-4c57-940a-c4a3d03a0c5c",
   "metadata": {},
   "outputs": [],
   "source": [
    "# convert private key string to the hex\n",
    "\n",
    "def hex_key_string_to_bytes(private_key_hex):\n",
    "    # Remove '0x' prefix if present\n",
    "    if private_key_hex.startswith('0x') or private_key_hex.startswith('0X'):\n",
    "        private_key_hex = private_key_hex[2:]\n",
    "\n",
    "    private_key_bytes = bytes.fromhex(private_key_hex)\n",
    "    if len(private_key_bytes) != 32:\n",
    "        raise ValueError(\"Private key must be 32 bytes long\")\n",
    "\n",
    "    return private_key_bytes"
   ]
  },
  {
   "cell_type": "markdown",
   "id": "f4ce4c17-b64f-40cf-aa71-f95c40d9c5fc",
   "metadata": {},
   "source": [
    "### ETH address generator implementation 1"
   ]
  },
  {
   "cell_type": "code",
   "execution_count": null,
   "id": "d71df57e-5a33-4606-b03a-b7f8d2e57b02",
   "metadata": {},
   "outputs": [],
   "source": [
    "# conda install eth-utils -c conda-forge\n",
    "\n",
    "from ecdsa import SigningKey, SECP256k1\n",
    "from eth_utils import keccak, to_checksum_address\n",
    "\n",
    "def eth_address(private_key_hex):\n",
    "\n",
    "    private_key_bytes = hex_key_string_to_bytes(private_key_hex)\n",
    "\n",
    "    # Generate public key\n",
    "    sk = SigningKey.from_string(private_key_bytes, curve=SECP256k1)\n",
    "    vk = sk.get_verifying_key()\n",
    "\n",
    "    # Get the public key in uncompressed format (64 bytes)\n",
    "    public_key_bytes = vk.to_string()\n",
    "\n",
    "    # Keccak-256 hash of public key\n",
    "    public_key_hash = keccak(public_key_bytes)\n",
    "\n",
    "    # Take last 20 bytes to form the address\n",
    "    address_bytes = public_key_hash[-20:]\n",
    "    address_hex = '0x' + address_bytes.hex()\n",
    "\n",
    "    # Convert to checksummed address (EIP-55)\n",
    "    checksum_address = to_checksum_address(address_hex)\n",
    "    return checksum_address"
   ]
  },
  {
   "cell_type": "markdown",
   "id": "aa3bbbd4-64c4-4be7-9fa3-fdf4ce2331b1",
   "metadata": {},
   "source": [
    "### ETH address generator implementation 2"
   ]
  },
  {
   "cell_type": "code",
   "execution_count": null,
   "id": "21e03ffa-4a9b-4a12-9473-398f996aa00d",
   "metadata": {},
   "outputs": [],
   "source": [
    "# conda install bip-utils\n",
    "\n",
    "from bip_utils import Bip44, Bip44Coins\n",
    "\n",
    "def eth_address(private_key_hex):\n",
    "    private_key_bytes = hex_key_string_to_bytes(private_key_hex)\n",
    "    return Bip44.FromPrivateKey(private_key_bytes, Bip44Coins.ETHEREUM).PublicKey().ToAddress()"
   ]
  },
  {
   "cell_type": "markdown",
   "id": "e0f08b14-feb4-4f85-8789-f68fbe6a477d",
   "metadata": {},
   "source": [
    "### ETH address generator implementation 3"
   ]
  },
  {
   "cell_type": "code",
   "execution_count": null,
   "id": "5c0d4a84-19f5-4526-acf0-45857e68276d",
   "metadata": {},
   "outputs": [],
   "source": [
    "# conda install bip-utils\n",
    "\n",
    "from bip_utils import Secp256k1PrivateKey, EthAddr, P2WPKHAddr, WifEncoder\n",
    "\n",
    "def eth_address(private_key_hex):\n",
    "    \n",
    "    private_key_bytes = hex_key_string_to_bytes(private_key_hex)\n",
    "    # Create a Secp256k1PrivateKey object from the private key bytes\n",
    "    private_key = Secp256k1PrivateKey.FromBytes(private_key_bytes)\n",
    "    \n",
    "    # Get the public key from the private key\n",
    "    public_key = private_key.PublicKey()\n",
    "    \n",
    "    # Ethereum Address Generation\n",
    "    eth_address = EthAddr.EncodeKey(public_key)\n",
    "    return eth_address"
   ]
  },
  {
   "cell_type": "markdown",
   "id": "9c3bd97d-ac01-47ad-b3cd-c2f3b7bef61f",
   "metadata": {},
   "source": [
    "### ETH addr generator usage example"
   ]
  },
  {
   "cell_type": "code",
   "execution_count": null,
   "id": "06500bca-0772-49d2-a481-40ca7c96307c",
   "metadata": {},
   "outputs": [],
   "source": [
    "private_key = '01b712d2fb6a68c6a6224d49eeedfacb58594d57f91359d81d7a2a383f262649'\n",
    "address = eth_address(private_key)\n",
    "print(f\"Ethereum Address: {address}\")"
   ]
  },
  {
   "cell_type": "markdown",
   "id": "474155d2-17da-4ae3-9e10-10ea0a100bea",
   "metadata": {},
   "source": [
    "---"
   ]
  },
  {
   "cell_type": "markdown",
   "id": "8fc40754-b9f7-48f7-b05a-a52829c0b1f0",
   "metadata": {},
   "source": [
    "## BTC BIP84 Native Segwit (P2WPKH) address generator\n",
    "(Because why do you need an old legacy address?)"
   ]
  },
  {
   "cell_type": "markdown",
   "id": "c1841922-8063-4ea3-ad77-92c406cb8259",
   "metadata": {},
   "source": [
    "### BTC address from hex string, implementation 1"
   ]
  },
  {
   "cell_type": "code",
   "execution_count": null,
   "id": "4272d1c3-d5b5-41df-867b-22fcb7e59431",
   "metadata": {},
   "outputs": [],
   "source": [
    "# conda install bip-utils\n",
    "\n",
    "from bip_utils import Secp256k1PrivateKey, EthAddr, P2WPKHAddr, WifEncoder\n",
    "\n",
    "def btc_address(private_key_hex):\n",
    "    # Bitcoin Native SegWit Address\n",
    "    private_key_bytes = hex_key_string_to_bytes(private_key_hex)\n",
    "    # Create a Secp256k1PrivateKey object from the private key bytes\n",
    "    private_key = Secp256k1PrivateKey.FromBytes(private_key_bytes)\n",
    "    \n",
    "    # Get the public key from the private key\n",
    "    public_key = private_key.PublicKey()\n",
    "    \n",
    "    # Generate Bitcoin Native Segwit (P2WPKH) address\n",
    "    btc_address = P2WPKHAddr.EncodeKey(public_key, hrp='bc')\n",
    "    return btc_address"
   ]
  },
  {
   "cell_type": "markdown",
   "id": "a91fdd11-8077-46c7-944c-a85d17652f71",
   "metadata": {},
   "source": [
    "### BTC address from hex string, implementation 2"
   ]
  },
  {
   "cell_type": "code",
   "execution_count": null,
   "id": "0d32fc11-cd1b-4b57-9fed-155fcf9c1257",
   "metadata": {},
   "outputs": [],
   "source": [
    "from bip_utils import Bip84, Bip84Coins\n",
    "\n",
    "def btc_address(private_key_hex):\n",
    "    # Bitcoin Native SegWit Address\n",
    "    private_key_bytes = hex_key_string_to_bytes(private_key_hex)\n",
    "    bip84 = Bip84.FromPrivateKey(private_key_bytes, Bip84Coins.BITCOIN)\n",
    "    btc_address = bip84.PublicKey().ToAddress()\n",
    "    # wif_private_key = bip84.PrivateKey().ToWif()\n",
    "    # print(wif_private_key)\n",
    "    return btc_address"
   ]
  },
  {
   "cell_type": "markdown",
   "id": "7c92838f-06c8-440c-b5e5-b7a09316fbe0",
   "metadata": {},
   "source": [
    "### BTC address from WIF string"
   ]
  },
  {
   "cell_type": "code",
   "execution_count": null,
   "id": "f7a32e30-6d9c-4343-80ab-98b959ed1474",
   "metadata": {},
   "outputs": [],
   "source": [
    "from bip_utils import WifDecoder\n",
    "\n",
    "def btc_address_WIF(wif_private_key):\n",
    "    priv_key_bytes, _ = WifDecoder.Decode(wif_private_key)\n",
    "    priv_key_hex = priv_key_bytes.hex()\n",
    "    return btc_address(priv_key_hex)"
   ]
  },
  {
   "cell_type": "code",
   "execution_count": null,
   "id": "2e4f3943-b482-48d5-aded-c845d28793e6",
   "metadata": {},
   "outputs": [],
   "source": [
    "def Wif_from_priv(private_key_hex):\n",
    "    private_key_bytes = hex_key_string_to_bytes(private_key_hex)\n",
    "    bip84 = Bip84.FromPrivateKey(private_key_bytes, Bip84Coins.BITCOIN)\n",
    "    wif_private_key = bip84.PrivateKey().ToWif()\n",
    "    return wif_private_key    "
   ]
  },
  {
   "cell_type": "markdown",
   "id": "48eeadae-254c-49db-ac85-c5578eeed9a9",
   "metadata": {},
   "source": [
    "### BTC addr generator usage example"
   ]
  },
  {
   "cell_type": "code",
   "execution_count": null,
   "id": "0c369f4b-9064-41ac-ae3b-30b49582b7f2",
   "metadata": {},
   "outputs": [],
   "source": [
    "wif_private_key = 'L3L91g1K5TWq3G8nWvV7c8h3sqkv6TecBoHv4zEApZLaqoWfNHsf'\n",
    "btc_address_WIF(wif_private_key)"
   ]
  },
  {
   "cell_type": "markdown",
   "id": "d634a5f7-2c2e-46e9-8b5c-907f39168a5d",
   "metadata": {},
   "source": [
    "---"
   ]
  },
  {
   "cell_type": "markdown",
   "id": "c9f4c90a-4c7e-48a9-b0ad-cb5ae7e32b66",
   "metadata": {},
   "source": [
    "## Test Data"
   ]
  },
  {
   "cell_type": "code",
   "execution_count": null,
   "id": "6c9abef1-2c9f-4c0e-aa87-48a102dc4a08",
   "metadata": {},
   "outputs": [],
   "source": [
    "test_eth_addr = [\n",
    "    ['01b712d2fb6a68c6a6224d49eeedfacb58594d57f91359d81d7a2a383f262649', '0x0004Aa53eD3CD4E1d9B6C77BFA697B263A584d66'],\n",
    "    ['7ed8ed33c677394789289ec94d64e2a92ae13ae7b2361eaa7d6e940ae5180698', '0x000966e72E852FB9ed4F97B46B7Eb02A55fdcB29'],\n",
    "    ['6b025864ed1093b13854a866d546db18f63128d989e68a2efd6f4e30e080b2d1', '0x5Ec5a8cbBa5d72aaea94153CEce78dbAC74e6888'],\n",
    "    ['6c881c1facdc443a20c0e178c94d0a015904d8efcd58330ea2ac46861a0a8ad1', '0x1111aAFB8CD27f09dF48Ec7Dc730700147E4E5C5'],\n",
    "    ['394e583f12ec94195dc209d441bd3076e8ebb49fa4188995741214e172e48988', '0x2222efC7fc5e759125687bC01772c63D3975398f'],\n",
    "    ['162cf5d7bebf4e565249972ab93f3cb24911a2c188e7fb5e9956fd3e5a7ba114', '0x3333aa269816b396335EE97e07FeE72A712ee4aC'],\n",
    "    ['b147ca80d4622a1579ecd5f38a75233a63238fefec86f20615d3ef7d7de90580', '0xa888fA2433106E33c88c88644c98844cf98eB8EA'],\n",
    "    ['668fd7add0cc6766182ffd9a2e0735629be928e8d6f2f2de0f0c7cc9d0b425ea', '0x988BCF8737887a5a8888327499D54356495b9818'],\n",
    "]  \n",
    " "
   ]
  },
  {
   "cell_type": "code",
   "execution_count": null,
   "id": "a36b5675-859c-4759-adfa-5abaf0d681f9",
   "metadata": {},
   "outputs": [],
   "source": [
    "test_btc_addr = [\n",
    "    ['KzFAqBvM3hDpSK4bMWt9nCV7DbAPx4cGcg5ftQ7gf5jedLy2RdDa', 'bc1qz92wjad4y3fxdg7q8xzquarc3kzskc24z5js8s'],\n",
    "    ['L31JaGQre72BzJFodMhJcam2LAU5TahtEC3Kk2vRapxw6TdYZDNu', 'bc1q9x3ta6grdqp79n3r5329uldhunpueq5llew0n7'],\n",
    "    ['L25VrNZTH7j6F9ShK18xUGRBEyoCcxKACKsADySpLgC4vs9vLbTB', 'bc1qte3j3qdc59sjpwg2a7jfyjjl6qw0229qrwel2j'],\n",
    "    ['KzgrHjKjUKNapmVVy4qy4auMC8DRuTpePKCfV3iV7QtMdcPvKTmY', 'bc1qnm3y0rjjgutu9qu8fpg05wtxkmr8wzr6ys0y8u'],\n",
    "    ['KyvChFARYArJ9cM8KqKv3VLhiiddpWrCVh7j8hztWUYWFqgtf9zL', 'bc1q2t38xuevj8tfcljzmjhrsu69ac45sg59c6s0dq'],\n",
    "    ['L3mrNfgHzdHpaSGfdaUZbDPPDt5AugXnRAxASE5pZABFrDS3UHTe', 'bc1q55jqpmgyjwtyu9ercxwz03udvwa85r4v7mzpsn'],\n",
    "    ['L3hQA4b58N9Ndx4VgGFrtYLNGGrpPVhMa1BtbPKVD48JUiQskXZk', 'bc1qtest4ryd8xz84kzu4xyt8yn06ak24dn6nm763p'],\n",
    "    ['L3yDTjp6QaAX7yjutZG8FcpTYeR8ELaDjTkFjv5vfHQ1TYoRsygt', 'bc1queryfduv2f2y7gstthq2pyqlt69qgzfxz7lxym'],\n",
    "    ['L3L91g1K5TWq3G8nWvV7c8h3sqkv6TecBoHv4zEApZLaqoWfNHsf', 'bc1qc543kvt9t8glrw9xk2nas6a69yz3cglqrapcat'],\n",
    "    ['L3eb6zxpKy7eEwKf7HsLkzJTfjfaF324TyHrhpvKL73MkJhQbCGe', 'bc1qmjsn3xrqsqrfeux6ky05mktj4yelu7jt8wgaay'],\n",
    "]"
   ]
  },
  {
   "cell_type": "code",
   "execution_count": null,
   "id": "58f93571-a105-4a4c-b758-0d565d94ff31",
   "metadata": {},
   "outputs": [],
   "source": [
    "# run tests \n",
    "def run_test(test_data, testing_func):\n",
    "    all_tests_passed = True\n",
    "    for idx, (private_key, expected_address) in enumerate(test_data, start=1):\n",
    "        generated_address = testing_func(private_key)\n",
    "        test_passed = generated_address == expected_address\n",
    "        if test_passed:\n",
    "            print(f\"Test {idx}: PASS\")\n",
    "        else:\n",
    "            print(f\"Test {idx}: FAIL\")\n",
    "            print(f\"  Expected Address: {expected_address}\")\n",
    "            print(f\"  Generated Address: {generated_address}\")\n",
    "            all_tests_passed = False\n",
    "    \n",
    "    if all_tests_passed:\n",
    "        print(\"\\nAll tests passed successfully!\")\n",
    "    else:\n",
    "        print(\"\\nSome tests failed. Please check the discrepancies above.\")\n"
   ]
  },
  {
   "cell_type": "code",
   "execution_count": null,
   "id": "16bcfbcc-1c95-45be-9575-7e0151c07048",
   "metadata": {},
   "outputs": [],
   "source": [
    "# run ETH tests\n",
    "run_test(test_eth_addr, eth_address)"
   ]
  },
  {
   "cell_type": "code",
   "execution_count": null,
   "id": "a6564211-a394-4623-be11-fa3363b83ed6",
   "metadata": {},
   "outputs": [],
   "source": [
    "# run BTC tests\n",
    "run_test(test_btc_addr, btc_address_WIF)"
   ]
  },
  {
   "cell_type": "markdown",
   "id": "e41b0459-0ead-45e0-afd9-23f4ccf1a3ab",
   "metadata": {},
   "source": [
    "---"
   ]
  },
  {
   "cell_type": "markdown",
   "id": "3b7853af-887e-4bb1-b556-92bd18ec65de",
   "metadata": {},
   "source": [
    "## Vanity BTC address generator"
   ]
  },
  {
   "cell_type": "code",
   "execution_count": null,
   "id": "c7b1a63d-59bc-4c48-a75e-5b3a66035ea5",
   "metadata": {},
   "outputs": [],
   "source": [
    "import secrets\n",
    "\n",
    "def validate_bech32_chars(adr): \n",
    "    # invalid characters: A-Z, b, i, o, 1\n",
    "    for c in adr:\n",
    "        if c not in 'qpzry9x8gf2tvdw0s3jn54khce6mua7l': # Bech32 character set\n",
    "            print('Invalid charaters: A-Z, b, i, o, 1')\n",
    "            return False\n",
    "    return True\n",
    "\n",
    "run = True # in future this can stop separate threads\n",
    "\n",
    "def vanity_btc_address(prefix, suffix):\n",
    "    if not validate_bech32_chars(prefix) or not validate_bech32_chars(suffix):\n",
    "        return\n",
    "    n = 0\n",
    "    while run:\n",
    "        n += 1\n",
    "        if n % 20000 == 0: print('.', end='')\n",
    "        pk = secrets.token_hex(32)\n",
    "        ad = btc_address(pk)\n",
    "        adp = ad[4:] # do not count mandatory prefix 'bc1q'\n",
    "        if adp.startswith(prefix): # and adp.endswith(suffix):\n",
    "#        if adp.endswith(suffix):\n",
    "            print(n)\n",
    "            print(Wif_from_priv(pk), ad)\n",
    "            break  "
   ]
  },
  {
   "cell_type": "code",
   "execution_count": null,
   "id": "38817a5d-1d2c-4f02-9a5f-0e6e84b52cd7",
   "metadata": {},
   "outputs": [],
   "source": [
    "run = True\n",
    "for i in range(2):\n",
    "    vanity_btc_address('ute', 'why')"
   ]
  },
  {
   "cell_type": "markdown",
   "id": "e36330c1-bd5e-4d80-9c78-c8acefeeca23",
   "metadata": {},
   "source": [
    "## Vanity ETC address generator"
   ]
  },
  {
   "cell_type": "code",
   "execution_count": null,
   "id": "aafd871f-32a4-45a4-a43a-86a5726912c2",
   "metadata": {},
   "outputs": [],
   "source": [
    "import secrets\n",
    "\n",
    "def validate_eth_chars(adr): \n",
    "    for c in adr:\n",
    "        if c not in '0123456789abcdefABCDEF': # ETH character set\n",
    "            print('Invalid charaters, use only 0123456789abcdefABCDEF')\n",
    "            return False\n",
    "    return True\n",
    "\n",
    "run = True # in future this can stop separate threads\n",
    "\n",
    "def vanity_eth_address(vanity_func):\n",
    "    global run\n",
    "    n = 0\n",
    "    while run:\n",
    "        n += 1\n",
    "        if n % 10000 == 0: print('.', end='')\n",
    "        pk = secrets.token_hex(32)\n",
    "        ad = eth_address(pk)\n",
    "        adp = ad[2:] # do not count prefix 0x\n",
    "        if vanity_func(adp):\n",
    "            run = False\n",
    "            print(n)\n",
    "            print(pk, ad)\n",
    "            break      "
   ]
  },
  {
   "cell_type": "code",
   "execution_count": null,
   "id": "b545b3fa-15ca-44ba-89fd-77f9bc841254",
   "metadata": {},
   "outputs": [],
   "source": [
    "def vanity_prefix_suffix(adp):\n",
    "    if adp.startswith('88') and adp.endswith('88'): return True\n",
    "    return False\n",
    "\n",
    "# vanity_eth_address(vanity_prefix_suffix)"
   ]
  },
  {
   "cell_type": "code",
   "execution_count": null,
   "id": "cbeb29a8-f58c-4953-97da-df92893cb35b",
   "metadata": {},
   "outputs": [],
   "source": [
    "def vanity_subset(adp):\n",
    "    if set(adp) <= set('0123456789afeAFE'): return True\n",
    "    return False\n",
    "\n",
    "vanity_eth_address(vanity_subset)"
   ]
  },
  {
   "cell_type": "code",
   "execution_count": null,
   "id": "6d7f7e6b-47b4-4b44-b4f4-5d3d8007e05b",
   "metadata": {},
   "outputs": [],
   "source": [
    "def vanity_count(adp):\n",
    "    if adp.count('8') > 13: return True\n",
    "    return False\n",
    "\n",
    "# vanity_eth_address(vanity_count)"
   ]
  },
  {
   "cell_type": "code",
   "execution_count": null,
   "id": "7ab6c1eb-cc08-472d-a58d-243f85ccb856",
   "metadata": {},
   "outputs": [],
   "source": [
    "def vanity_includes(adp):\n",
    "    if '888' in adp: return True\n",
    "    return False\n",
    "\n",
    "vanity_eth_address(vanity_includes)"
   ]
  },
  {
   "cell_type": "code",
   "execution_count": null,
   "id": "4c43dab7-2125-4c1a-bd28-be4ac9d5be7b",
   "metadata": {},
   "outputs": [],
   "source": [
    "def check_repeated_sequences(s):\n",
    "    i = 0\n",
    "    n = len(s)\n",
    "    while i < n:\n",
    "        c = s[i]\n",
    "        count = 1\n",
    "        i += 1\n",
    "        while i < n and s[i] == c:\n",
    "            count += 1\n",
    "            i += 1\n",
    "        if count < 2:\n",
    "            return False\n",
    "    return True"
   ]
  },
  {
   "cell_type": "markdown",
   "id": "3c5f7910-fc76-4a8b-8c3c-498dbe5ac2c1",
   "metadata": {},
   "source": [
    "### Threaded execution"
   ]
  },
  {
   "cell_type": "code",
   "execution_count": null,
   "id": "ed63aa67-7152-4f94-a7c1-1802719aef0c",
   "metadata": {},
   "outputs": [],
   "source": [
    "import threading\n",
    "\n",
    "threads = []\n",
    "run = True\n",
    "for n in range(2):\n",
    "    thread = threading.Thread(target=vanity_eth_address, args=(vanity_prefix_suffix,))\n",
    "    thread.start()\n",
    "    threads.append(thread)"
   ]
  },
  {
   "cell_type": "code",
   "execution_count": null,
   "id": "35d17ace-7b43-4a35-8424-be334370454b",
   "metadata": {},
   "outputs": [],
   "source": [
    "# Wait for all threads to complete\n",
    "for thread in threads:\n",
    "    thread.join()"
   ]
  }
 ],
 "metadata": {
  "kernelspec": {
   "display_name": "Python 3 (ipykernel)",
   "language": "python",
   "name": "python3"
  },
  "language_info": {
   "codemirror_mode": {
    "name": "ipython",
    "version": 3
   },
   "file_extension": ".py",
   "mimetype": "text/x-python",
   "name": "python",
   "nbconvert_exporter": "python",
   "pygments_lexer": "ipython3",
   "version": "3.12.3"
  }
 },
 "nbformat": 4,
 "nbformat_minor": 5
}
